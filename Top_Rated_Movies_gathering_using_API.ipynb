{
 "cells": [
  {
   "cell_type": "code",
   "execution_count": 1,
   "id": "812adc80",
   "metadata": {},
   "outputs": [],
   "source": [
    "import requests\n",
    "import pandas as pd"
   ]
  },
  {
   "cell_type": "code",
   "execution_count": 2,
   "id": "d5b5d1ec",
   "metadata": {},
   "outputs": [],
   "source": [
    "# extracting data from Url in json form and then forming dataframe and selecting desired columns\n",
    "\n",
    "response = requests.get('https://api.themoviedb.org/3/movie/top_rated?api_key=3d5ce23128f87940885e0b4d793e8589&language=en-US&page=1').json()\n",
    "\n",
    "temp_data = pd.DataFrame(response['results'])[['id','title','release_date','overview','popularity','vote_count','vote_average']]"
   ]
  },
  {
   "cell_type": "code",
   "execution_count": 3,
   "id": "bfe9fc43",
   "metadata": {},
   "outputs": [
    {
     "data": {
      "text/html": [
       "<div>\n",
       "<style scoped>\n",
       "    .dataframe tbody tr th:only-of-type {\n",
       "        vertical-align: middle;\n",
       "    }\n",
       "\n",
       "    .dataframe tbody tr th {\n",
       "        vertical-align: top;\n",
       "    }\n",
       "\n",
       "    .dataframe thead th {\n",
       "        text-align: right;\n",
       "    }\n",
       "</style>\n",
       "<table border=\"1\" class=\"dataframe\">\n",
       "  <thead>\n",
       "    <tr style=\"text-align: right;\">\n",
       "      <th></th>\n",
       "      <th>id</th>\n",
       "      <th>title</th>\n",
       "      <th>release_date</th>\n",
       "      <th>overview</th>\n",
       "      <th>popularity</th>\n",
       "      <th>vote_count</th>\n",
       "      <th>vote_average</th>\n",
       "    </tr>\n",
       "  </thead>\n",
       "  <tbody>\n",
       "    <tr>\n",
       "      <th>0</th>\n",
       "      <td>238</td>\n",
       "      <td>The Godfather</td>\n",
       "      <td>1972-03-14</td>\n",
       "      <td>Spanning the years 1945 to 1955, a chronicle o...</td>\n",
       "      <td>138.109</td>\n",
       "      <td>18134</td>\n",
       "      <td>8.7</td>\n",
       "    </tr>\n",
       "    <tr>\n",
       "      <th>1</th>\n",
       "      <td>278</td>\n",
       "      <td>The Shawshank Redemption</td>\n",
       "      <td>1994-09-23</td>\n",
       "      <td>Framed in the 1940s for the double murder of h...</td>\n",
       "      <td>122.546</td>\n",
       "      <td>24014</td>\n",
       "      <td>8.7</td>\n",
       "    </tr>\n",
       "  </tbody>\n",
       "</table>\n",
       "</div>"
      ],
      "text/plain": [
       "    id                     title release_date  \\\n",
       "0  238             The Godfather   1972-03-14   \n",
       "1  278  The Shawshank Redemption   1994-09-23   \n",
       "\n",
       "                                            overview  popularity  vote_count  \\\n",
       "0  Spanning the years 1945 to 1955, a chronicle o...     138.109       18134   \n",
       "1  Framed in the 1940s for the double murder of h...     122.546       24014   \n",
       "\n",
       "   vote_average  \n",
       "0           8.7  \n",
       "1           8.7  "
      ]
     },
     "execution_count": 3,
     "metadata": {},
     "output_type": "execute_result"
    }
   ],
   "source": [
    "temp_data.head(2)\n"
   ]
  },
  {
   "cell_type": "code",
   "execution_count": 4,
   "id": "64d74d7e",
   "metadata": {},
   "outputs": [],
   "source": [
    "# creatinf empty dataframe\n",
    "data = pd.DataFrame()"
   ]
  },
  {
   "cell_type": "code",
   "execution_count": 5,
   "id": "52a3985b",
   "metadata": {},
   "outputs": [],
   "source": [
    "# writing loops for pages upto 501\n",
    "for i in range(1,501):\n",
    "    response = requests.get('https://api.themoviedb.org/3/movie/top_rated?api_key=3d5ce23128f87940885e0b4d793e8589&language=en-US&page={}'.format(i))\n",
    "    \n",
    "    temp_df = pd.DataFrame(response.json()['results'])[['id','title','release_date','overview','popularity','vote_count','vote_average']]\n",
    "    \n",
    "    \n",
    "    data = data.append(temp_df,ignore_index=True)"
   ]
  },
  {
   "cell_type": "code",
   "execution_count": 7,
   "id": "6183da7c",
   "metadata": {},
   "outputs": [
    {
     "data": {
      "text/html": [
       "<div>\n",
       "<style scoped>\n",
       "    .dataframe tbody tr th:only-of-type {\n",
       "        vertical-align: middle;\n",
       "    }\n",
       "\n",
       "    .dataframe tbody tr th {\n",
       "        vertical-align: top;\n",
       "    }\n",
       "\n",
       "    .dataframe thead th {\n",
       "        text-align: right;\n",
       "    }\n",
       "</style>\n",
       "<table border=\"1\" class=\"dataframe\">\n",
       "  <thead>\n",
       "    <tr style=\"text-align: right;\">\n",
       "      <th></th>\n",
       "      <th>id</th>\n",
       "      <th>title</th>\n",
       "      <th>release_date</th>\n",
       "      <th>overview</th>\n",
       "      <th>popularity</th>\n",
       "      <th>vote_count</th>\n",
       "      <th>vote_average</th>\n",
       "    </tr>\n",
       "  </thead>\n",
       "  <tbody>\n",
       "    <tr>\n",
       "      <th>0</th>\n",
       "      <td>238</td>\n",
       "      <td>The Godfather</td>\n",
       "      <td>1972-03-14</td>\n",
       "      <td>Spanning the years 1945 to 1955, a chronicle o...</td>\n",
       "      <td>138.109</td>\n",
       "      <td>18134</td>\n",
       "      <td>8.7</td>\n",
       "    </tr>\n",
       "    <tr>\n",
       "      <th>1</th>\n",
       "      <td>278</td>\n",
       "      <td>The Shawshank Redemption</td>\n",
       "      <td>1994-09-23</td>\n",
       "      <td>Framed in the 1940s for the double murder of h...</td>\n",
       "      <td>122.546</td>\n",
       "      <td>24014</td>\n",
       "      <td>8.7</td>\n",
       "    </tr>\n",
       "    <tr>\n",
       "      <th>2</th>\n",
       "      <td>240</td>\n",
       "      <td>The Godfather Part II</td>\n",
       "      <td>1974-12-20</td>\n",
       "      <td>In the continuing saga of the Corleone crime f...</td>\n",
       "      <td>76.607</td>\n",
       "      <td>10944</td>\n",
       "      <td>8.6</td>\n",
       "    </tr>\n",
       "    <tr>\n",
       "      <th>3</th>\n",
       "      <td>569094</td>\n",
       "      <td>Spider-Man: Across the Spider-Verse</td>\n",
       "      <td>2023-05-31</td>\n",
       "      <td>After reuniting with Gwen Stacy, Brooklyn’s fu...</td>\n",
       "      <td>2275.332</td>\n",
       "      <td>1738</td>\n",
       "      <td>8.6</td>\n",
       "    </tr>\n",
       "    <tr>\n",
       "      <th>4</th>\n",
       "      <td>424</td>\n",
       "      <td>Schindler's List</td>\n",
       "      <td>1993-12-15</td>\n",
       "      <td>The true story of how businessman Oskar Schind...</td>\n",
       "      <td>64.709</td>\n",
       "      <td>14194</td>\n",
       "      <td>8.6</td>\n",
       "    </tr>\n",
       "  </tbody>\n",
       "</table>\n",
       "</div>"
      ],
      "text/plain": [
       "       id                                title release_date  \\\n",
       "0     238                        The Godfather   1972-03-14   \n",
       "1     278             The Shawshank Redemption   1994-09-23   \n",
       "2     240                The Godfather Part II   1974-12-20   \n",
       "3  569094  Spider-Man: Across the Spider-Verse   2023-05-31   \n",
       "4     424                     Schindler's List   1993-12-15   \n",
       "\n",
       "                                            overview  popularity  vote_count  \\\n",
       "0  Spanning the years 1945 to 1955, a chronicle o...     138.109       18134   \n",
       "1  Framed in the 1940s for the double murder of h...     122.546       24014   \n",
       "2  In the continuing saga of the Corleone crime f...      76.607       10944   \n",
       "3  After reuniting with Gwen Stacy, Brooklyn’s fu...    2275.332        1738   \n",
       "4  The true story of how businessman Oskar Schind...      64.709       14194   \n",
       "\n",
       "   vote_average  \n",
       "0           8.7  \n",
       "1           8.7  \n",
       "2           8.6  \n",
       "3           8.6  \n",
       "4           8.6  "
      ]
     },
     "execution_count": 7,
     "metadata": {},
     "output_type": "execute_result"
    }
   ],
   "source": [
    "data.head(5)"
   ]
  },
  {
   "cell_type": "code",
   "execution_count": 8,
   "id": "05dfecc6",
   "metadata": {},
   "outputs": [
    {
     "data": {
      "text/plain": [
       "id              0\n",
       "title           0\n",
       "release_date    0\n",
       "overview        0\n",
       "popularity      0\n",
       "vote_count      0\n",
       "vote_average    0\n",
       "dtype: int64"
      ]
     },
     "execution_count": 8,
     "metadata": {},
     "output_type": "execute_result"
    }
   ],
   "source": [
    "data.isnull().sum()"
   ]
  },
  {
   "cell_type": "code",
   "execution_count": 9,
   "id": "a9a549a8",
   "metadata": {},
   "outputs": [],
   "source": [
    "data.to_csv('Top_Rated_Movies.csv')"
   ]
  },
  {
   "cell_type": "code",
   "execution_count": null,
   "id": "e875f413",
   "metadata": {},
   "outputs": [],
   "source": []
  }
 ],
 "metadata": {
  "kernelspec": {
   "display_name": "Python 3",
   "language": "python",
   "name": "python3"
  },
  "language_info": {
   "codemirror_mode": {
    "name": "ipython",
    "version": 3
   },
   "file_extension": ".py",
   "mimetype": "text/x-python",
   "name": "python",
   "nbconvert_exporter": "python",
   "pygments_lexer": "ipython3",
   "version": "3.8.8"
  }
 },
 "nbformat": 4,
 "nbformat_minor": 5
}
